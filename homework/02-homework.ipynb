{
 "cells": [
  {
   "cell_type": "markdown",
   "metadata": {},
   "source": [
    "# Tarea: Aprendizaje por Refuerzo\n",
    "\n",
    "1. Dado el mundo definido por la siguiente función de transición $f_{M_{T}} (s, a)$, la función de recompensa $f_{R}(s, a, s_{f} ) = f_{R}( sf )$ y $\\gamma = 0.9$:\n",
    "\n",
    "$\n",
    " f_{M_{T}} = \\begin{matrix}\n",
    "             & \\begin{matrix}a1 & a2\\end{matrix} \\\\\n",
    "             \\begin{matrix} s_{1} \\\\ s_{2} \\\\ s_{3} \\\\ s_{4} \\end{matrix} &\n",
    "             \\begin{bmatrix}\n",
    "             s_{2} & s_{2} \\\\\n",
    "             s_{1} & s_{3} \\\\\n",
    "             s_{3} & s_{1} \\\\\n",
    "             s_{1} & s_{4} \\\\\n",
    "             \\end{bmatrix}\n",
    "            \\end{matrix}\n",
    "$\n",
    "$ \n",
    " f_{R}(s_{f}) = \\begin{matrix}\n",
    "                    \\begin{matrix} s_{1} \\\\ s_{2} \\\\ s_{3} \\\\ s_{4} \\end{matrix} \n",
    "                    &\n",
    "                    \\begin{bmatrix} 2 \\\\ 1 \\\\ -1 \\\\ 10 \\end{bmatrix}\n",
    "                \\end{matrix}\n",
    "$"
   ]
  },
  {
   "cell_type": "code",
   "execution_count": 19,
   "metadata": {},
   "outputs": [],
   "source": [
    "import numpy as np\n",
    "\n",
    "fmt: np.ndarray = np.array([\n",
    "    np.array([2, 2]),\n",
    "    np.array([1, 3]),\n",
    "    np.array([3, 1]),\n",
    "    np.array([1, 4]),\n",
    "])\n",
    "fr = [2, 1, -1, 10]\n",
    "gamma = .9"
   ]
  },
  {
   "cell_type": "markdown",
   "metadata": {},
   "source": [
    "a. Resuelva las Ecuaciones de Optimalidad de Bellman por Iteración de Valor para V(s)."
   ]
  },
  {
   "cell_type": "code",
   "execution_count": 20,
   "metadata": {},
   "outputs": [
    {
     "name": "stdout",
     "output_type": "stream",
     "text": [
      "44 [14.60362582 15.13453527 15.13453527 99.12720364]\n"
     ]
    }
   ],
   "source": [
    "a_size = len(fr)\n",
    "vs = np.zeros(a_size)\n",
    "iteration = 0\n",
    "while True:\n",
    "    i = 0\n",
    "    new_vs = np.zeros(a_size)\n",
    "    for s in fmt:\n",
    "        a1, a2 = s\n",
    "        vsi = [fr[a1-1] + (gamma * vs[a1-1]), fr[a2-1] + (gamma * vs[a2-1])]\n",
    "        new_vs[i] = max(vsi)\n",
    "        i += 1\n",
    "    diff = new_vs - vs\n",
    "    if len(diff[diff>.1]) == 0:\n",
    "        print(iteration, new_vs)\n",
    "        break\n",
    "    vs = new_vs\n",
    "    iteration += 1"
   ]
  },
  {
   "cell_type": "markdown",
   "metadata": {},
   "source": [
    "b. Resuelva las Ecuaciones de Optimalidad de Bellman por Iteración de Valor para Q(s,a)."
   ]
  },
  {
   "cell_type": "code",
   "execution_count": 21,
   "metadata": {},
   "outputs": [
    {
     "name": "stdout",
     "output_type": "stream",
     "text": [
      "44 [[14.60362582 15.13453527 12.60362582 15.13453527]\n",
      " [14.60362582 12.60362582 15.13453527 99.12720364]]\n"
     ]
    }
   ],
   "source": [
    "import numpy as np\n",
    "\n",
    "m, n = fmt.shape\n",
    "qsa = np.zeros((m, n))\n",
    "iteration = 0\n",
    "while True:\n",
    "    new_qsa = []\n",
    "    for i in range(m):\n",
    "        idx1, idx2 = fmt[i]\n",
    "        r1 = fr[idx1-1] + (gamma * max(qsa[idx1-1]))\n",
    "        r2 = fr[idx2-1] + (gamma * max(qsa[idx2-1]))\n",
    "        new_qsa.append(np.array([r1, r2]))\n",
    "    new_qsa_n = np.array(new_qsa)\n",
    "    diff = new_qsa_n - qsa\n",
    "    flags = []\n",
    "    for r in diff:\n",
    "        flag = True\n",
    "        if len(r[r>.1]) == 0:\n",
    "            flag = False\n",
    "        flags.append(flag)\n",
    "    if sum(flags) == 0:\n",
    "        print(iteration, new_qsa_n.T)\n",
    "        break\n",
    "    qsa = new_qsa_n\n",
    "    iteration += 1\n",
    "    "
   ]
  },
  {
   "cell_type": "markdown",
   "metadata": {},
   "source": [
    "2. Dado el mundo definido por la función de transición $P_{M_{T}}(s_{f}|s,a)$ la función de recompensa $f_{R}(s,a,s_{f})=f_{R}(s_{f})$ y $\\gamma=0.6$:\n",
    "\n",
    "$\n",
    " f_{M_{T}} = \\begin{matrix}\n",
    "                \\begin{matrix}\n",
    "                    & \\begin{matrix} s_{f}=s_{1} \\\\ \\begin{matrix}a_{1} & a_{2}\\end{matrix} \\end{matrix} \\\\\n",
    "                    \\begin{matrix} s_{1} \\\\ s_{2} \\\\ s_{3} \\end{matrix} &\n",
    "                    \\begin{bmatrix}\n",
    "                        0.4 & 0.2 \\\\\n",
    "                        0.5 & 0.0 \\\\\n",
    "                        1.0 & 0.3 \\\\\n",
    "                    \\end{bmatrix}\n",
    "                \\end{matrix}\n",
    "                \\begin{matrix}\n",
    "                    & \\begin{matrix} s_{f}=s_{2} \\\\ \\begin{matrix}a_{1} & a_{2}\\end{matrix} \\end{matrix} \\\\\n",
    "                    \\begin{matrix} s_{1} \\\\ s_{2} \\\\ s_{3} \\end{matrix} &\n",
    "                    \\begin{bmatrix}\n",
    "                        0.5 & 0.8 \\\\\n",
    "                        0.0 & 0.0 \\\\\n",
    "                        0.0 & 0.6 \\\\\n",
    "                    \\end{bmatrix}\n",
    "                \\end{matrix}\n",
    "                \\begin{matrix}\n",
    "                    & \\begin{matrix} s_{f}=s_{3} \\\\ \\begin{matrix}a_{1} & a_{2}\\end{matrix} \\end{matrix} \\\\\n",
    "                    \\begin{matrix} s_{1} \\\\ s_{2} \\\\ s_{3} \\end{matrix} &\n",
    "                    \\begin{bmatrix}\n",
    "                        0.1 & 0.0 \\\\\n",
    "                        0.5 & 1.0 \\\\\n",
    "                        0.0 & 0.1 \\\\\n",
    "                    \\end{bmatrix}\n",
    "                \\end{matrix}\n",
    "            \\end{matrix}\n",
    "$\n",
    "\n",
    "$ \n",
    " f_{R}(s_{f}) = \\begin{matrix}\n",
    "                    \\begin{matrix} s_{1} \\\\ s_{2} \\\\ s_{3} \\end{matrix} \n",
    "                    &\n",
    "                    \\begin{bmatrix} 2 \\\\ 1 \\\\ -1 \\end{bmatrix}\n",
    "                \\end{matrix}\n",
    "$"
   ]
  },
  {
   "cell_type": "code",
   "execution_count": 22,
   "metadata": {},
   "outputs": [],
   "source": [
    "fmt: np.ndarray = np.array([np.array([\n",
    "    np.array([0.4, 0.2]),\n",
    "    np.array([0.5, 0.0]),\n",
    "    np.array([1.0, 0.3]),\n",
    "]),np.array([\n",
    "    np.array([0.5, 0.8]),\n",
    "    np.array([0.0, 0.0]),\n",
    "    np.array([0.0, 0.6]),\n",
    "]),np.array([\n",
    "    np.array([0.1, 0.0]),\n",
    "    np.array([0.5, 1.0]),\n",
    "    np.array([0.0, 0.1]),\n",
    "])])\n",
    "fr = [2, 1, -1]\n",
    "gamma = .6"
   ]
  },
  {
   "cell_type": "markdown",
   "metadata": {},
   "source": [
    "a. Resuelva las Ecuaciones de Optimalidad de Bellman por Iteración de Valor para V(s)."
   ]
  },
  {
   "cell_type": "code",
   "execution_count": 93,
   "metadata": {},
   "outputs": [
    {
     "name": "stdout",
     "output_type": "stream",
     "text": [
      "[ 2.   0.8 -0. ]\n",
      "[ 3.2    1.184 -0.   ]\n",
      "[ 3.92     1.36832 -0.     ]\n",
      "[ 4.352      1.4567936 -0.       ]\n",
      "[ 4.6112      1.49926093 -0.        ]\n",
      "[ 4.76672     1.51964525 -0.        ]\n",
      "[ 4.860032    1.52942972 -0.        ]\n"
     ]
    }
   ],
   "source": [
    "m, n, w = fmt.shape\n",
    "vs = np.zeros(n)\n",
    "\n",
    "while True:\n",
    "    new_vs = np.zeros(m)\n",
    "    for sfi in range(m):\n",
    "        r = []\n",
    "        for si in range(n):\n",
    "            for ai in range(w):\n",
    "                r.append(fmt[sfi, si, ai] * (fr[sfi] + (gamma * vs[sfi])))\n",
    "        new_vs[sfi] = max(r)\n",
    "        i += 1\n",
    "    print(new_vs)\n",
    "    diff = new_vs - vs\n",
    "    if len(diff[diff>.1]) == 0:\n",
    "        break\n",
    "    vs = new_vs.copy()"
   ]
  },
  {
   "cell_type": "markdown",
   "metadata": {},
   "source": [
    "b. Resuelva las Ecuaciones de Optimalidad de Bellman por Iteración de Valor para Q(s,a)."
   ]
  },
  {
   "cell_type": "code",
   "execution_count": null,
   "metadata": {},
   "outputs": [],
   "source": [
    "m, n, w = fmt.shape\n",
    "qsa = np.zeros((m, n))"
   ]
  }
 ],
 "metadata": {
  "interpreter": {
   "hash": "9650cb4e16cdd4a8e8e2d128bf38d875813998db22a3c986335f89e0cb4d7bb2"
  },
  "kernelspec": {
   "display_name": "Python 3.8.3 64-bit",
   "language": "python",
   "name": "python3"
  },
  "language_info": {
   "codemirror_mode": {
    "name": "ipython",
    "version": 3
   },
   "file_extension": ".py",
   "mimetype": "text/x-python",
   "name": "python",
   "nbconvert_exporter": "python",
   "pygments_lexer": "ipython3",
   "version": "3.8.3"
  },
  "orig_nbformat": 4
 },
 "nbformat": 4,
 "nbformat_minor": 2
}
