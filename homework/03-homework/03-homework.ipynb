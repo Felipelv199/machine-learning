{
 "cells": [
  {
   "cell_type": "markdown",
   "metadata": {},
   "source": [
    "a. $V(s)$"
   ]
  },
  {
   "cell_type": "code",
   "execution_count": 46,
   "metadata": {},
   "outputs": [
    {
     "name": "stdout",
     "output_type": "stream",
     "text": [
      "Iteracion: 0\n",
      "Iteracion por valor\n",
      "[[2.68 0.   0.  ]\n",
      " [0.52 0.   0.  ]]\n",
      "Diferencia temporal\n",
      "[[1.208 0.8   0.4  ]\n",
      " [1.112 1.2   0.   ]]\n",
      "Iteracion: 1\n",
      "Iteracion por valor\n",
      "[[ 0.6  0.   0. ]\n",
      " [-0.6  0.   0. ]]\n",
      "Diferencia temporal\n",
      "[[ 1.432  0.     0.   ]\n",
      " [-0.152  0.     0.   ]]\n"
     ]
    }
   ],
   "source": [
    "# 9, 16\n",
    "\n",
    "fmt = [\n",
    "    [\n",
    "        [0, 0],\n",
    "        [0, 0],\n",
    "        [0, 0],\n",
    "    ],\n",
    "    [\n",
    "        [.8, .2],\n",
    "        [0, 0],\n",
    "        [0, 0],\n",
    "    ],\n",
    "    [\n",
    "        [.2, .8],\n",
    "        [0, 0],\n",
    "        [0, 0],\n",
    "    ],\n",
    "]\n",
    "\n",
    "fr = [2, 1, -1]\n",
    "\n",
    "qsa = [\n",
    "    [-1, 2],\n",
    "    [2, 3],\n",
    "    [1, 0],\n",
    "]\n",
    "\n",
    "gamma = 0.8\n",
    "alpha = 0.6\n",
    "\n",
    "m = len(fmt)\n",
    "n = len(fmt[0])\n",
    "w = len(fmt[0][0])\n",
    "iteration = 0\n",
    "\n",
    "while True:\n",
    "    new_qsa = np.zeros((n, w))\n",
    "    for si in range(n):\n",
    "        r = np.zeros(w)\n",
    "        for sfi in range(m):\n",
    "            for ai in range(w):\n",
    "                r[ai] += fmt[sfi][si][ai] * (fr[sfi] + (gamma * max(qsa[sfi])))\n",
    "        new_qsa[si] = r\n",
    "    diff = new_qsa - qsa\n",
    "    a = qsa + (alpha * diff)\n",
    "    print(f\"Iteracion: {iteration}\")\n",
    "    print(\"Iteracion por valor\")\n",
    "    print(new_qsa.T)\n",
    "    print(\"Diferencia temporal\")\n",
    "    print(a.T)\n",
    "    diff = diff.reshape(diff.size).copy()\n",
    "    if len(diff[diff>.1]) == 0:\n",
    "        break\n",
    "\n",
    "    qsa = new_qsa\n",
    "    iteration += 1"
   ]
  },
  {
   "cell_type": "code",
   "execution_count": 48,
   "metadata": {},
   "outputs": [
    {
     "name": "stdout",
     "output_type": "stream",
     "text": [
      "Iteracion: 0\n",
      "Iteracion por valor\n",
      "[0.92 0.   0.  ]\n",
      "Diferencia temporal\n",
      "[ 1.352  0.4   -0.8  ]\n",
      "Iteracion: 1\n",
      "Iteracion por valor\n",
      "[0.6 0.  0. ]\n",
      "Diferencia temporal\n",
      "[0.728 0.    0.   ]\n"
     ]
    }
   ],
   "source": [
    "# 11, 15\n",
    "\n",
    "fmt = [\n",
    "    [\n",
    "        [0, 0],\n",
    "        [0, 0],\n",
    "        [0, 0],\n",
    "    ],\n",
    "    [\n",
    "        [.8, .2],\n",
    "        [0, 0],\n",
    "        [0, 0],\n",
    "    ],\n",
    "    [\n",
    "        [.2, .8],\n",
    "        [0, 0],\n",
    "        [0, 0],\n",
    "    ],\n",
    "]\n",
    "\n",
    "fr = [2, 1, -1]\n",
    "vs = np.array([2, 1, -2])\n",
    "\n",
    "gamma = 0.8\n",
    "alpha = 0.6\n",
    "\n",
    "m = len(fmt)\n",
    "n = len(fmt[0])\n",
    "w = len(fmt[0][0])\n",
    "iteration = 0\n",
    "\n",
    "while True:\n",
    "    new_vs = np.zeros(n)\n",
    "    for si in range(n):\n",
    "        r = np.zeros(w)\n",
    "        for sfi in range(m):\n",
    "            for ai in range(w):\n",
    "                r[ai] += fmt[sfi][si][ai] * (fr[sfi] + (gamma * vs[sfi]))\n",
    "        new_vs[si] = max(r)\n",
    "    print(f\"Iteracion: {iteration}\")\n",
    "    print(\"Iteracion por valor\")\n",
    "    print(new_vs)\n",
    "    diff = new_vs - vs\n",
    "    print(\"Diferencia temporal\")\n",
    "    print(vs + (alpha*diff))\n",
    "    if len(diff[diff>.1]) == 0:\n",
    "        break\n",
    "    vs = new_vs.copy()\n",
    "    iteration += 1"
   ]
  }
 ],
 "metadata": {
  "interpreter": {
   "hash": "301a17a29b57d3836b7901af1621afd6d2b1f2298b9c7949191147cf2fea93e3"
  },
  "kernelspec": {
   "display_name": "Python 3.10.4 64-bit",
   "language": "python",
   "name": "python3"
  },
  "language_info": {
   "codemirror_mode": {
    "name": "ipython",
    "version": 3
   },
   "file_extension": ".py",
   "mimetype": "text/x-python",
   "name": "python",
   "nbconvert_exporter": "python",
   "pygments_lexer": "ipython3",
   "version": "3.10.4"
  },
  "orig_nbformat": 4
 },
 "nbformat": 4,
 "nbformat_minor": 2
}
